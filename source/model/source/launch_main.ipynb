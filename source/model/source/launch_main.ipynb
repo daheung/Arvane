{
 "cells": [
  {
   "cell_type": "code",
   "execution_count": null,
   "id": "26a54296",
   "metadata": {},
   "outputs": [],
   "source": [
    "import os\n",
    "import sys\n",
    "import cv2\n",
    "import time\n",
    "import torch\n",
    "import faulthandler\n",
    "import numpy as np\n",
    "\n",
    "from tqdm import tqdm\n",
    "\n",
    "faulthandler.enable()"
   ]
  },
  {
   "cell_type": "code",
   "execution_count": null,
   "id": "8cfc340f",
   "metadata": {},
   "outputs": [],
   "source": [
    "os.environ[\"PYTHONUTF8\"] = \"1\"\n",
    "os.environ['TORCHDYNAMO_VERBOSE'] = \"1\"\n",
    "os.environ[\"PYTHONIOENCODING\"] = \"utf-8\"\n",
    "\n",
    "torch._dynamo.config.verbose = True\n",
    "torch._dynamo.config.suppress_errors = False\n",
    "torch.set_float32_matmul_precision('high')"
   ]
  },
  {
   "cell_type": "code",
   "execution_count": null,
   "id": "5f1294f5",
   "metadata": {},
   "outputs": [],
   "source": [
    "device = 'cuda' if torch.cuda.is_available() else 'cpu'\n",
    "device"
   ]
  },
  {
   "cell_type": "code",
   "execution_count": null,
   "id": "aabfbe39",
   "metadata": {},
   "outputs": [],
   "source": [
    "print(torch.__version__)\n",
    "print(torch.version.cuda)"
   ]
  },
  {
   "cell_type": "code",
   "execution_count": null,
   "id": "c1dfc15b",
   "metadata": {},
   "outputs": [],
   "source": [
    "sys.path.insert(0, os.path.abspath(os.path.join(os.path.curdir, '..')))"
   ]
  },
  {
   "cell_type": "code",
   "execution_count": null,
   "id": "c138836e",
   "metadata": {},
   "outputs": [],
   "source": [
    "from model.arvane import (\n",
    "    ArvaneModel\n",
    ")\n",
    "from model.utils import(\n",
    "    load_config\n",
    ")\n",
    "from model.loaders.loaders import (\n",
    "    get_scans,\n",
    "    InferenceDataset\n",
    ")\n",
    "from source.analyzer.arvane_analyzer import (\n",
    "    ArvaneAnalyzer\n",
    ")"
   ]
  },
  {
   "cell_type": "code",
   "execution_count": null,
   "id": "5a264207",
   "metadata": {},
   "outputs": [],
   "source": [
    "config = load_config('../config/config.yml')"
   ]
  },
  {
   "cell_type": "code",
   "execution_count": null,
   "id": "ab8cef9a",
   "metadata": {},
   "outputs": [],
   "source": [
    "_, _, test_scans = get_scans(\n",
    "    config.dataset_dir,\n",
    "    config.tsdf_dir,\n",
    "    config.depth_guidance.pred_depth_dir,\n",
    ")\n",
    "dataset = InferenceDataset(\n",
    "    scans=test_scans,\n",
    "    load_depth=True,\n",
    ")\n",
    "predict_loader = torch.utils.data.DataLoader(\n",
    "    dataset,\n",
    "    batch_size=1,\n",
    "    num_workers=config.workers_predict,\n",
    "    persistent_workers=True,\n",
    "    shuffle=False,\n",
    ")"
   ]
  },
  {
   "cell_type": "code",
   "execution_count": null,
   "id": "7b1dd5bf",
   "metadata": {},
   "outputs": [],
   "source": [
    "model = ArvaneModel(config).to(device)\n",
    "model.load_state_dict(torch.load(\"../checkpoint/arvane.pt\"))"
   ]
  },
  {
   "cell_type": "code",
   "execution_count": null,
   "id": "62a7db7c",
   "metadata": {},
   "outputs": [],
   "source": [
    "model.eval()\n",
    "model = torch.compile(model)"
   ]
  },
  {
   "cell_type": "code",
   "execution_count": null,
   "id": "5ad6099a",
   "metadata": {},
   "outputs": [],
   "source": [
    "loader_iter = iter(predict_loader)\n",
    "first_batch = next(loader_iter)"
   ]
  },
  {
   "cell_type": "code",
   "execution_count": null,
   "id": "b2332558",
   "metadata": {},
   "outputs": [],
   "source": [
    "first_batch['color'].shape"
   ]
  },
  {
   "cell_type": "code",
   "execution_count": null,
   "id": "ea471b49",
   "metadata": {},
   "outputs": [],
   "source": [
    "gt_origin = first_batch['gt_origin']\n",
    "gt_maxbound = first_batch['gt_maxbound']\n",
    "model.start(\n",
    "    gt_origin=gt_origin,\n",
    "    gt_maxbound=gt_maxbound\n",
    ")"
   ]
  },
  {
   "cell_type": "code",
   "execution_count": null,
   "id": "c3775cbd",
   "metadata": {},
   "outputs": [],
   "source": [
    "first_batch.keys()"
   ]
  },
  {
   "cell_type": "code",
   "execution_count": null,
   "id": "340c1173",
   "metadata": {},
   "outputs": [],
   "source": [
    "# colors = [\n",
    "#     batch['color'][0, 0, ...]\n",
    "#     for batch in tqdm(predict_loader, total=len(predict_loader))\n",
    "# ][:10]\n",
    "\n",
    "# colors = torch.stack(colors, dim=0)\n",
    "# colors.shape"
   ]
  },
  {
   "cell_type": "code",
   "execution_count": null,
   "id": "e19c84eb",
   "metadata": {},
   "outputs": [],
   "source": [
    "# in_colors = colors[:, None, ...].to(device=device, dtype=torch.float32)\n",
    "# in_colors.shape"
   ]
  },
  {
   "cell_type": "code",
   "execution_count": null,
   "id": "6c4b2893",
   "metadata": {},
   "outputs": [],
   "source": [
    "# with torch.no_grad():\n",
    "#     depth, f_px = model.create_depth_before_update(\n",
    "#         in_colors,\n",
    "#         save_to_file=True,\n",
    "#         save_path=f\"../output/scannet_v2/scene0708_00\",\n",
    "#         exist_ok=True\n",
    "#     )"
   ]
  },
  {
   "cell_type": "code",
   "execution_count": null,
   "id": "fc08497f",
   "metadata": {},
   "outputs": [],
   "source": [
    "with torch.no_grad():\n",
    "    for idx, batch in enumerate(\n",
    "        tqdm(predict_loader, total=len(predict_loader))\n",
    "    ):            \n",
    "        torch.compiler.cudagraph_mark_step_begin()\n",
    "        model.update(\n",
    "            batch['color'  ].to(device=torch.device(config.device), dtype=torch.float32),\n",
    "            batch['depth'  ].to(device=torch.device(config.device), dtype=torch.float32),\n",
    "            batch['K_color'].to(device=torch.device(config.device), dtype=torch.float32),\n",
    "            batch['K_depth'].to(device=torch.device(config.device), dtype=torch.float32),\n",
    "            batch['poses'  ].to(device=torch.device(config.device), dtype=torch.float32),\n",
    "        )\n",
    "        \n",
    "        model.update_view()"
   ]
  },
  {
   "cell_type": "code",
   "execution_count": null,
   "id": "242367e3",
   "metadata": {},
   "outputs": [],
   "source": [
    "torch.stack(model.container.k_color, dim=0)[None, :, 0, ...].shape"
   ]
  },
  {
   "cell_type": "code",
   "execution_count": null,
   "id": "68676491",
   "metadata": {},
   "outputs": [],
   "source": [
    "torch.stack([pose[0, ...] for pose in model.container.poses], dim=0)[None].shape"
   ]
  },
  {
   "cell_type": "code",
   "execution_count": null,
   "id": "a1e56485",
   "metadata": {},
   "outputs": [],
   "source": [
    "with torch.no_grad():\n",
    "    result = model.final_update(\n",
    "        \"../output/final-result.ply\"\n",
    "    )"
   ]
  }
 ],
 "metadata": {
  "kernelspec": {
   "display_name": "arvane",
   "language": "python",
   "name": "python3"
  },
  "language_info": {
   "codemirror_mode": {
    "name": "ipython",
    "version": 3
   },
   "file_extension": ".py",
   "mimetype": "text/x-python",
   "name": "python",
   "nbconvert_exporter": "python",
   "pygments_lexer": "ipython3",
   "version": "3.11.11"
  }
 },
 "nbformat": 4,
 "nbformat_minor": 5
}
